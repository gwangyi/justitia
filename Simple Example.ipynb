{
 "cells": [
  {
   "cell_type": "code",
   "execution_count": 1,
   "metadata": {},
   "outputs": [
    {
     "data": {
      "application/vnd.jupyter.widget-view+json": {
       "model_id": "7e4d6732c5b84a9180631ab4b8e7594b"
      }
     },
     "metadata": {},
     "output_type": "display_data"
    }
   ],
   "source": [
    "from justitia import testsuite\n",
    "\n",
    "@testsuite\n",
    "def hello(test_case):\n",
    "    print(\"Test suite example\")\n",
    "    \n",
    "    @test_case\n",
    "    def test():\n",
    "        print(\"hello!\")\n",
    "        \n",
    "    @test_case(title=\"Fail Case\")\n",
    "    def test():\n",
    "        raise AssertionError(\"ASSERTION FAIL\")\n",
    "\n",
    "hello()"
   ]
  }
 ],
 "metadata": {
  "kernelspec": {
   "display_name": "Python 3",
   "language": "python",
   "name": "python3"
  },
  "language_info": {
   "codemirror_mode": {
    "name": "ipython",
    "version": 3
   },
   "file_extension": ".py",
   "mimetype": "text/x-python",
   "name": "python",
   "nbconvert_exporter": "python",
   "pygments_lexer": "ipython3",
   "version": "3.6.1"
  },
  "widgets": {
   "application/vnd.jupyter.widget-state+json": {
    "state": {
     "1f85d1c49adf4acdad8e233fcf0b019f": {
      "model_module": "jupyter-js-widgets",
      "model_module_version": "~2.1.4",
      "model_name": "LayoutModel",
      "state": {
       "_model_module_version": "~2.1.4",
       "_view_module_version": "~2.1.4"
      }
     },
     "276cd87de7c740078dc0ed0fc39b8c59": {
      "model_module": "jupyter-js-widgets",
      "model_module_version": "~2.1.4",
      "model_name": "LayoutModel",
      "state": {
       "_model_module_version": "~2.1.4",
       "_view_module_version": "~2.1.4"
      }
     },
     "34365b1c341445f5a283534937aa296c": {
      "model_module": "justitia",
      "model_module_version": "^0.1.0",
      "model_name": "TestCaseModel",
      "state": {
       "_dom_classes": [],
       "_model_module_version": "^0.1.0",
       "_result": {
        "data": {
         "text/plain": "None"
        },
        "metadata": {}
       },
       "_view_module_version": "^0.1.0",
       "layout": "IPY_MODEL_abdda1e2cc494f81844984dbaa856160",
       "msg_throttle": 1,
       "state": "pass"
      }
     },
     "3c0b6513781c4aa5b629c561c3736b8f": {
      "model_module": "justitia",
      "model_module_version": "*",
      "model_name": "StatefulOutputModel",
      "state": {
       "_dom_classes": [],
       "_model_module_version": "*",
       "_model_name": "StatefulOutputModel",
       "_view_module_version": "*",
       "_view_name": "StatefulOutputView",
       "layout": "IPY_MODEL_6cc5e0389c0d42dfb2cfdcb5dca6745a",
       "msg_throttle": 1,
       "outputs": [
        {
         "name": "stdout",
         "output_type": "stream",
         "text": "Test suite example\n"
        }
       ]
      }
     },
     "3c28b3a1ffec4f89b59d8f35bfaa7fe1": {
      "model_module": "justitia",
      "model_module_version": "^0.1.0",
      "model_name": "TestCaseModel",
      "state": {
       "_dom_classes": [],
       "_model_module_version": "^0.1.0",
       "_result": {
        "data": {
         "text/plain": "AssertionError('ASSERTION FAIL')"
        },
        "metadata": {}
       },
       "_view_module_version": "^0.1.0",
       "layout": "IPY_MODEL_1f85d1c49adf4acdad8e233fcf0b019f",
       "msg_throttle": 1,
       "state": "fail",
       "title": "Fail Case"
      }
     },
     "4485b2d0450b4d9eb2108817a333f0c7": {
      "model_module": "jupyter-js-widgets",
      "model_module_version": "~2.1.4",
      "model_name": "LayoutModel",
      "state": {
       "_model_module_version": "~2.1.4",
       "_view_module_version": "~2.1.4"
      }
     },
     "497ae02117cb403fbc28d48331ffd1e2": {
      "model_module": "justitia",
      "model_module_version": "^0.1.0",
      "model_name": "TestCaseModel",
      "state": {
       "_dom_classes": [],
       "_model_module_version": "^0.1.0",
       "_result": {
        "data": {
         "text/plain": "None"
        },
        "metadata": {}
       },
       "_view_module_version": "^0.1.0",
       "layout": "IPY_MODEL_d4ba263f1f2f4107abcf1a9af0d76148",
       "msg_throttle": 1,
       "outputs": [
        {
         "name": "stdout",
         "output_type": "stream",
         "text": "hello!\n"
        }
       ],
       "state": "pass"
      }
     },
     "51b10c8302c94dacb3ff185a0cd1d2a4": {
      "model_module": "jupyter-js-widgets",
      "model_module_version": "~2.1.4",
      "model_name": "VBoxModel",
      "state": {
       "_model_module_version": "~2.1.4",
       "_view_module": "justitia",
       "_view_module_version": "^0.1.0",
       "_view_name": "TestSuiteView",
       "children": [
        "IPY_MODEL_34365b1c341445f5a283534937aa296c",
        "IPY_MODEL_3c28b3a1ffec4f89b59d8f35bfaa7fe1"
       ],
       "layout": "IPY_MODEL_da0a1558f74444efbc7ccf6454f3f5ff"
      }
     },
     "57528fab86134c4a827a68cda0eabc82": {
      "model_module": "jupyter-js-widgets",
      "model_module_version": "~2.1.4",
      "model_name": "VBoxModel",
      "state": {
       "_model_module_version": "~2.1.4",
       "_view_module_version": "~2.1.4",
       "children": [
        "IPY_MODEL_6b414425deec41089abaaf762da10de8",
        "IPY_MODEL_51b10c8302c94dacb3ff185a0cd1d2a4"
       ],
       "layout": "IPY_MODEL_78d0fc4fbd004ddaa2abaf0c84c38233"
      }
     },
     "589d24fd56cc4331a3a81a39f9bbc29e": {
      "model_module": "jupyter-js-widgets",
      "model_module_version": "~2.1.4",
      "model_name": "LayoutModel",
      "state": {
       "_model_module_version": "~2.1.4",
       "_view_module_version": "~2.1.4"
      }
     },
     "637430b0d2b44bd3a045d86cba04bbc5": {
      "model_module": "jupyter-js-widgets",
      "model_module_version": "~2.1.4",
      "model_name": "VBoxModel",
      "state": {
       "_model_module_version": "~2.1.4",
       "_view_module": "justitia",
       "_view_module_version": "^0.1.0",
       "_view_name": "TestSuiteView",
       "children": [
        "IPY_MODEL_497ae02117cb403fbc28d48331ffd1e2",
        "IPY_MODEL_dce8bf91d2944319a0a1195954548d0c"
       ],
       "layout": "IPY_MODEL_589d24fd56cc4331a3a81a39f9bbc29e"
      }
     },
     "6b414425deec41089abaaf762da10de8": {
      "model_module": "justitia",
      "model_module_version": "*",
      "model_name": "StatefulOutputModel",
      "state": {
       "_dom_classes": [],
       "_model_module_version": "*",
       "_model_name": "StatefulOutputModel",
       "_view_module_version": "*",
       "_view_name": "StatefulOutputView",
       "layout": "IPY_MODEL_276cd87de7c740078dc0ed0fc39b8c59",
       "msg_throttle": 1,
       "outputs": [
        {
         "name": "stdout",
         "output_type": "stream",
         "text": "Test suite example\n"
        }
       ]
      }
     },
     "6cc5e0389c0d42dfb2cfdcb5dca6745a": {
      "model_module": "jupyter-js-widgets",
      "model_module_version": "~2.1.4",
      "model_name": "LayoutModel",
      "state": {
       "_model_module_version": "~2.1.4",
       "_view_module_version": "~2.1.4"
      }
     },
     "78d0fc4fbd004ddaa2abaf0c84c38233": {
      "model_module": "jupyter-js-widgets",
      "model_module_version": "~2.1.4",
      "model_name": "LayoutModel",
      "state": {
       "_model_module_version": "~2.1.4",
       "_view_module_version": "~2.1.4"
      }
     },
     "7e4d6732c5b84a9180631ab4b8e7594b": {
      "model_module": "jupyter-js-widgets",
      "model_module_version": "~2.1.4",
      "model_name": "VBoxModel",
      "state": {
       "_model_module_version": "~2.1.4",
       "_view_module_version": "~2.1.4",
       "children": [
        "IPY_MODEL_3c0b6513781c4aa5b629c561c3736b8f",
        "IPY_MODEL_637430b0d2b44bd3a045d86cba04bbc5"
       ],
       "layout": "IPY_MODEL_4485b2d0450b4d9eb2108817a333f0c7"
      }
     },
     "abdda1e2cc494f81844984dbaa856160": {
      "model_module": "jupyter-js-widgets",
      "model_module_version": "~2.1.4",
      "model_name": "LayoutModel",
      "state": {
       "_model_module_version": "~2.1.4",
       "_view_module_version": "~2.1.4"
      }
     },
     "b2d08909e57e4129a8342cfcc590885e": {
      "model_module": "jupyter-js-widgets",
      "model_module_version": "~2.1.4",
      "model_name": "LayoutModel",
      "state": {
       "_model_module_version": "~2.1.4",
       "_view_module_version": "~2.1.4"
      }
     },
     "d4ba263f1f2f4107abcf1a9af0d76148": {
      "model_module": "jupyter-js-widgets",
      "model_module_version": "~2.1.4",
      "model_name": "LayoutModel",
      "state": {
       "_model_module_version": "~2.1.4",
       "_view_module_version": "~2.1.4"
      }
     },
     "da0a1558f74444efbc7ccf6454f3f5ff": {
      "model_module": "jupyter-js-widgets",
      "model_module_version": "~2.1.4",
      "model_name": "LayoutModel",
      "state": {
       "_model_module_version": "~2.1.4",
       "_view_module_version": "~2.1.4"
      }
     },
     "dce8bf91d2944319a0a1195954548d0c": {
      "model_module": "justitia",
      "model_module_version": "^0.1.0",
      "model_name": "TestCaseModel",
      "state": {
       "_dom_classes": [],
       "_model_module_version": "^0.1.0",
       "_result": {
        "data": {
         "text/plain": "AssertionError('ASSERTION FAIL')"
        },
        "metadata": {}
       },
       "_view_module_version": "^0.1.0",
       "layout": "IPY_MODEL_b2d08909e57e4129a8342cfcc590885e",
       "msg_throttle": 1,
       "outputs": [
        {
         "ename": "AssertionError",
         "evalue": "ASSERTION FAIL",
         "output_type": "error",
         "traceback": [
          "\u001b[0;31m---------------------------------------------------------------------------\u001b[0m",
          "\u001b[0;31mAssertionError\u001b[0m                            Traceback (most recent call last)",
          "\u001b[0;32m~/workspace/justitia/justitia/testcase.py\u001b[0m in \u001b[0;36mrun\u001b[0;34m(self)\u001b[0m\n\u001b[1;32m     51\u001b[0m                 \u001b[0;32mtry\u001b[0m\u001b[0;34m:\u001b[0m\u001b[0;34m\u001b[0m\u001b[0m\n\u001b[1;32m     52\u001b[0m                     \u001b[0mclear_output\u001b[0m\u001b[0;34m(\u001b[0m\u001b[0;34m)\u001b[0m\u001b[0;34m\u001b[0m\u001b[0m\n\u001b[0;32m---> 53\u001b[0;31m                     \u001b[0mresult\u001b[0m \u001b[0;34m=\u001b[0m \u001b[0mself\u001b[0m\u001b[0;34m.\u001b[0m\u001b[0m_testcase\u001b[0m\u001b[0;34m(\u001b[0m\u001b[0;34m)\u001b[0m\u001b[0;34m\u001b[0m\u001b[0m\n\u001b[0m\u001b[1;32m     54\u001b[0m                     \u001b[0;32mif\u001b[0m \u001b[0mresult\u001b[0m \u001b[0;32mis\u001b[0m \u001b[0;32mNone\u001b[0m\u001b[0;34m:\u001b[0m\u001b[0;34m\u001b[0m\u001b[0m\n\u001b[1;32m     55\u001b[0m                         \u001b[0mself\u001b[0m\u001b[0;34m.\u001b[0m\u001b[0mstate\u001b[0m \u001b[0;34m=\u001b[0m \u001b[0;34m'pass'\u001b[0m\u001b[0;34m\u001b[0m\u001b[0m\n",
          "\u001b[0;32m<ipython-input-1-061b34d7ce26>\u001b[0m in \u001b[0;36mtest\u001b[0;34m()\u001b[0m\n\u001b[1;32m     11\u001b[0m     \u001b[0;34m@\u001b[0m\u001b[0mtest_case\u001b[0m\u001b[0;34m(\u001b[0m\u001b[0mtitle\u001b[0m\u001b[0;34m=\u001b[0m\u001b[0;34m\"Fail Case\"\u001b[0m\u001b[0;34m)\u001b[0m\u001b[0;34m\u001b[0m\u001b[0m\n\u001b[1;32m     12\u001b[0m     \u001b[0;32mdef\u001b[0m \u001b[0mtest\u001b[0m\u001b[0;34m(\u001b[0m\u001b[0;34m)\u001b[0m\u001b[0;34m:\u001b[0m\u001b[0;34m\u001b[0m\u001b[0m\n\u001b[0;32m---> 13\u001b[0;31m         \u001b[0;32mraise\u001b[0m \u001b[0mAssertionError\u001b[0m\u001b[0;34m(\u001b[0m\u001b[0;34m\"ASSERTION FAIL\"\u001b[0m\u001b[0;34m)\u001b[0m\u001b[0;34m\u001b[0m\u001b[0m\n\u001b[0m\u001b[1;32m     14\u001b[0m \u001b[0;34m\u001b[0m\u001b[0m\n\u001b[1;32m     15\u001b[0m \u001b[0mhello\u001b[0m\u001b[0;34m(\u001b[0m\u001b[0;34m)\u001b[0m\u001b[0;34m\u001b[0m\u001b[0m\n",
          "\u001b[0;31mAssertionError\u001b[0m: ASSERTION FAIL"
         ]
        }
       ],
       "state": "fail",
       "title": "Fail Case"
      }
     }
    },
    "version_major": 1,
    "version_minor": 0
   }
  }
 },
 "nbformat": 4,
 "nbformat_minor": 2
}
